{
 "cells": [
  {
   "cell_type": "markdown",
   "metadata": {},
   "source": [
    "# Assignment 2: Spam Classification with SVM"
   ]
  },
  {
   "cell_type": "markdown",
   "metadata": {},
   "source": [
    "### CS 6316 Machine Learning - Department of Computer Science - University of Virginia\n",
    "*Many email services today provide spam filters that are able to classify emails into spam and non-spam email with high accuracy. In this part of the assignment, you will use SVMs to build your own spam filter. For references, you may refer to my [lecture 6](https://drive.google.com/open?id=1CeBhepjDKBaFBq2BZq-zNQs-MC8ll7aL4qAF8TJ24FM) and [lecture 6b](https://drive.google.com/open?id=13BidUAs_c2QdZkf92axt2S748sbnbI9Hgxg-fzb-OuU) or Chapter 5 of the textbook if you need additional sample codes to help with your assignment. For deliverables, you must write code in Python and submit **this** Jupyter Notebook file (.ipynb) to earn a total of 100 pts. You will gain points depending on how you perform in the following sections.*\n"
   ]
  },
  {
   "cell_type": "code",
   "execution_count": 1,
   "metadata": {},
   "outputs": [],
   "source": [
    "# Import some common packages\n",
    "import os\n",
    "import numpy as np\n",
    "import matplotlib\n",
    "import matplotlib.pyplot as plt\n",
    "import pandas as pd\n",
    "import math\n",
    "\n",
    "# to make this notebook's output stable across runs\n",
    "np.random.seed(42)"
   ]
  },
  {
   "cell_type": "markdown",
   "metadata": {},
   "source": [
    "---\n",
    "## 1. PRE-PROCESSING THE DATA (15 pts)\n",
    "\n",
    "**Data Acquiring:** Download the dataset from https://archive.ics.uci.edu/ml/datasets/Spambase\n",
    "\n",
    "**Data Splitting:** Put data into the format needed for SVM, then split it into 80% training, 20% testing (each should have approximately the same proportion of position and negative examples).\n",
    "\n",
    "**Data Discovery:** Plot out all correlations among the features. You may notice some features are more correlated with your predicted value than other. This information will help you confirm that weights of your regression model later on.\n",
    "\n",
    "**Data Cleaning:** If your dataset has some missing values, make sure you are able to fill those values with the Imputer class. \n",
    "\n",
    "**Feature Scaling** You can use the standard Scikit-Learn library can write some codes to normalize the value of each features as follow:\n",
    "\n",
    "* Subtract the mean value of each feature from the dataset\n",
    "* Scale (divide) the feature values by their respective standard deviation"
   ]
  },
  {
   "cell_type": "code",
   "execution_count": 1,
   "metadata": {},
   "outputs": [],
   "source": [
    "# You might want to use the following package\n",
    "from sklearn.model_selection import train_test_split\n",
    "from pandas.plotting import scatter_matrix # optional\n",
    "from sklearn.preprocessing import Imputer\n",
    "from sklearn.preprocessing import LabelEncoder\n",
    "from future_encoders import OneHotEncoder\n",
    "from sklearn.pipeline import Pipeline\n",
    "from sklearn.preprocessing import StandardScaler"
   ]
  },
  {
   "cell_type": "code",
   "execution_count": 3,
   "metadata": {},
   "outputs": [],
   "source": [
    "# DATA ACQUIRING\n",
    "# setting up file and extracting data from csv\n",
    "data = pd.read_csv(\"spambase.data.csv\")     # For windows"
   ]
  },
  {
   "cell_type": "code",
   "execution_count": 4,
   "metadata": {},
   "outputs": [],
   "source": [
    "# DATA SPLITTING\n",
    "train_set, test_set = train_test_split(data, test_size= 0.2, train_size= 0.8, random_state= 42)\n",
    "cleaned_train = train_set.drop([\"spam_or_not\"], axis=1)\n",
    "cleaned_train.head()\n",
    "train_pred = train_set[\"spam_or_not\"].copy()\n",
    "cleaned_test = test_set.drop([\"spam_or_not\"], axis=1)\n",
    "test_pred = test_set[\"spam_or_not\"].copy()\n",
    "corr_matrix = data.corr()"
   ]
  },
  {
   "cell_type": "code",
   "execution_count": 5,
   "metadata": {},
   "outputs": [],
   "source": [
    "# DATA DISCOVERY\n",
    "# data.info()\n",
    "# data.corr()\n",
    "# corr_matrix[\"spam_or_not\"].sort_values(ascending=False)"
   ]
  },
  {
   "cell_type": "code",
   "execution_count": 6,
   "metadata": {},
   "outputs": [],
   "source": [
    "# DATA CLEANING\n",
    "# not applicable, all data is present and of integer type"
   ]
  },
  {
   "cell_type": "code",
   "execution_count": 7,
   "metadata": {},
   "outputs": [],
   "source": [
    "# FEATURE SCALING\n",
    "scaler = StandardScaler()\n",
    "scaled_train = scaler.fit_transform(cleaned_train)\n",
    "mean = scaler.mean_\n",
    "variance = scaler.var_\n",
    "scaled_test = (cleaned_test - mean) / variance"
   ]
  },
  {
   "cell_type": "code",
   "execution_count": 8,
   "metadata": {},
   "outputs": [],
   "source": [
    "# Finalized Data Sets\n",
    "X_train = scaled_train;\n",
    "y_train = train_pred;\n",
    "X_test = scaled_test;\n",
    "y_test = test_pred;"
   ]
  },
  {
   "cell_type": "markdown",
   "metadata": {},
   "source": [
    "- - -\n",
    "## 2. TRAINING SVM FOR SPAM CLASSIFICATION (15 pts)\n",
    "\n",
    "Run your linear SVM classifier on the training data, and test the resulting model on the test data. In this section, you may use the default **loss function** (hinge) and **default** value of the C hyperparameter (=1.0):\n",
    "\n",
    "* Report accuracy, precision, recall?\n",
    "* Create an ROC curve for this SVM on the test data, using 200 or more evenly spaced thresholds. You may use library function calls to create the ROC curve?\n",
    "\n",
    "**Implementation Notes:** You do NOT need to add a column of 1's to the $\\mathbf{\n",
    "x}$ matrix to have an intercept term"
   ]
  },
  {
   "cell_type": "code",
   "execution_count": 9,
   "metadata": {
    "scrolled": true
   },
   "outputs": [
    {
     "data": {
      "text/plain": [
       "array([[508,  23],\n",
       "       [ 86, 304]], dtype=int64)"
      ]
     },
     "execution_count": 9,
     "metadata": {},
     "output_type": "execute_result"
    }
   ],
   "source": [
    "from sklearn.svm import LinearSVC\n",
    "\n",
    "# Training your svm here\n",
    "lin_svm_clf = LinearSVC(C=1, loss=\"hinge\", random_state=42)\n",
    "lin_svm_clf.fit(X_train, y_train)\n",
    "\n",
    "# Testing your svm here\n",
    "from sklearn.metrics import precision_score, recall_score\n",
    "from sklearn.metrics import roc_curve\n",
    "from sklearn.metrics import accuracy_score\n",
    "from sklearn.metrics import confusion_matrix\n",
    "from sklearn.model_selection import cross_val_predict\n",
    "from sklearn.linear_model import SGDClassifier\n",
    "\n",
    "y_train_pred = lin_svm_clf.predict(X_test)\n",
    "confusion_matrix(y_test, y_train_pred)"
   ]
  },
  {
   "cell_type": "code",
   "execution_count": 10,
   "metadata": {},
   "outputs": [
    {
     "data": {
      "text/plain": [
       "0.8816503800217155"
      ]
     },
     "execution_count": 10,
     "metadata": {},
     "output_type": "execute_result"
    }
   ],
   "source": [
    "# ACCURACY\n",
    "accuracy_score(y_test, y_train_pred)"
   ]
  },
  {
   "cell_type": "code",
   "execution_count": 11,
   "metadata": {},
   "outputs": [
    {
     "data": {
      "text/plain": [
       "0.9296636085626911"
      ]
     },
     "execution_count": 11,
     "metadata": {},
     "output_type": "execute_result"
    }
   ],
   "source": [
    "# PRECISION\n",
    "precision_score(y_test, y_train_pred)"
   ]
  },
  {
   "cell_type": "code",
   "execution_count": 12,
   "metadata": {},
   "outputs": [
    {
     "data": {
      "text/plain": [
       "0.7794871794871795"
      ]
     },
     "execution_count": 12,
     "metadata": {},
     "output_type": "execute_result"
    }
   ],
   "source": [
    "# RECALL\n",
    "recall_score(y_test, y_train_pred)"
   ]
  },
  {
   "cell_type": "code",
   "execution_count": 13,
   "metadata": {},
   "outputs": [
    {
     "data": {
      "image/png": "[encoded data removed]",
      "text/plain": [
       "<Figure size 576x432 with 1 Axes>"
      ]
     },
     "metadata": {},
     "output_type": "display_data"
    }
   ],
   "source": [
    "# ROC CURVE using 200 thresholds\n",
    "y_scores = cross_val_predict(lin_svm_clf, X_train, y_train, cv=3, method=\"decision_function\")\n",
    "\n",
    "# hack to work around issue #9589 in Scikit-Learn 0.19.0\n",
    "if y_scores.ndim == 2:\n",
    "    y_scores = y_scores[:, 1]\n",
    "        \n",
    "fpr, tpr, thresholds = roc_curve(y_train, y_scores)\n",
    "\n",
    "def plot_roc_curve(fpr, tpr, label=None):\n",
    "    plt.plot(fpr, tpr, linewidth=2, label=label)\n",
    "    plt.plot([0, 1], [0, 1], 'k--')\n",
    "    plt.xlim([0.0, 1.0])\n",
    "    plt.ylim([0.0, 1.05])\n",
    "    plt.axis([0, 1, 0, 1])\n",
    "    plt.xlabel('False Positive Rate', fontsize=16)\n",
    "    plt.ylabel('True Positive Rate', fontsize=16)\n",
    "\n",
    "plt.figure(figsize=(8, 6))\n",
    "plot_roc_curve(fpr, tpr)\n",
    "plt.show()"
   ]
  },
  {
   "cell_type": "markdown",
   "metadata": {},
   "source": [
    "- - -\n",
    "## 3. TUNING C FOR LINEAR SVM (15 pts)\n",
    "In this part of the assignment, you will try using different values of the C parameter with SVMs. Your task is to try different values of C on this dataset. For example, when C is small, you should find that the SVM puts the decision boundary in the gap between the two datasets and misclassifies the data point. When C is large, you should find that the SVM now classifies every single example correctly, but has a decision boundary that does not appear to be a natural fit for the data. \n",
    "\n",
    "In a 2-D feature space of your choice, you must be able to plot out the decision boundary of SVM for different values of C to earn credit for this section. Depends on your observation on the dataset, you must provide some justifications on the reason you select a certain value of C to tradeoff margin and data violation. "
   ]
  },
  {
   "cell_type": "code",
   "execution_count": 14,
   "metadata": {},
   "outputs": [],
   "source": [
    "import matplotlib\n",
    "import matplotlib.pyplot as plt\n",
    "plt.rcParams['axes.labelsize'] = 14\n",
    "plt.rcParams['xtick.labelsize'] = 12\n",
    "plt.rcParams['ytick.labelsize'] = 12"
   ]
  },
  {
   "cell_type": "code",
   "execution_count": 15,
   "metadata": {},
   "outputs": [],
   "source": [
    "X = train_set.loc[:,['word_freq_your', 'word_freq_000']]\n",
    "scaler = StandardScaler()\n",
    "scaled_X = scaler.fit_transform(X)"
   ]
  },
  {
   "cell_type": "code",
   "execution_count": 16,
   "metadata": {},
   "outputs": [],
   "source": [
    "# Finding Optimal C\n",
    "from sklearn.metrics import f1_score\n",
    "\n",
    "c_vals = [0.0005, 0.0001, 0.005, 0.001, 0.05, 0.01, 0.5, 0.1, 1, 5, 10, 50, 100, 500]\n",
    "\n",
    "for i in range(len(c_vals)-1):\n",
    "    svm_clf = LinearSVC(C=c_vals[i], loss=\"hinge\", random_state=42)\n",
    "    svm_clf.fit(X, y_train)\n",
    "    y_train_pred = cross_val_predict(svm_clf, scaled_X, y_train, cv=len(c_vals)+1)\n",
    "    (f1_score(y_train, y_train_pred), c_vals[i])"
   ]
  },
  {
   "cell_type": "code",
   "execution_count": 35,
   "metadata": {},
   "outputs": [
    {
     "ename": "AttributeError",
     "evalue": "'LinearSVC' object has no attribute 'shape'",
     "output_type": "error",
     "traceback": [
      "\u001b[1;31m---------------------------------------------------------------------------\u001b[0m",
      "\u001b[1;31mAttributeError\u001b[0m                            Traceback (most recent call last)",
      "\u001b[1;32m<ipython-input-35-c4573364fbf1>\u001b[0m in \u001b[0;36m<module>\u001b[1;34m()\u001b[0m\n\u001b[0;32m     13\u001b[0m \u001b[0mscaled_svm_clf3\u001b[0m\u001b[1;33m.\u001b[0m\u001b[0mfit\u001b[0m\u001b[1;33m(\u001b[0m\u001b[0mscaled_X\u001b[0m\u001b[1;33m,\u001b[0m \u001b[0my_train\u001b[0m\u001b[1;33m)\u001b[0m\u001b[1;33m\u001b[0m\u001b[0m\n\u001b[0;32m     14\u001b[0m \u001b[1;33m\u001b[0m\u001b[0m\n\u001b[1;32m---> 15\u001b[1;33m \u001b[0msvm_clf1\u001b[0m\u001b[1;33m.\u001b[0m\u001b[0mshape\u001b[0m\u001b[1;33m\u001b[0m\u001b[0m\n\u001b[0m",
      "\u001b[1;31mAttributeError\u001b[0m: 'LinearSVC' object has no attribute 'shape'"
     ]
    }
   ],
   "source": [
    "# Convert to unscaled parameters\n",
    "scaler = StandardScaler()\n",
    "svm_clf1 = LinearSVC(C=0.05, loss=\"hinge\", random_state=42) # pick smaller\n",
    "svm_clf2 = LinearSVC(C=0.01, loss=\"hinge\", random_state=42)\n",
    "svm_clf3 = LinearSVC(C=0.1, loss=\"hinge\", random_state=42)\n",
    "\n",
    "scaled_svm_clf1 = Pipeline([ (\"scaler\", scaler), (\"linear_svc\", svm_clf1), ])\n",
    "scaled_svm_clf2 = Pipeline([  (\"scaler\", scaler),  (\"linear_svc\", svm_clf2), ])\n",
    "scaled_svm_clf3 = Pipeline([(\"scaler\", scaler),(\"linear_svc\", svm_clf3), ])\n",
    "\n",
    "scaled_svm_clf1.fit(scaled_X, y_train)\n",
    "scaled_svm_clf2.fit(scaled_X, y_train)\n",
    "scaled_svm_clf3.fit(scaled_X, y_train)"
   ]
  },
  {
   "cell_type": "code",
   "execution_count": 18,
   "metadata": {},
   "outputs": [],
   "source": [
    "x_max = X_train.max()\n",
    "x_min = X_train.min()"
   ]
  },
  {
   "cell_type": "code",
   "execution_count": 19,
   "metadata": {},
   "outputs": [],
   "source": [
    "def plot_svc_decision_boundary(svm_clf, xmin, xmax):\n",
    "    w = svm_clf.coef_[0]\n",
    "    b = svm_clf.intercept_[0]\n",
    "\n",
    "    # At the decision boundary, w0*x0 + w1*x1 + b = 0\n",
    "    # => x1 = -w0/w1 * x0 - b/w1\n",
    "    x0 = np.linspace(xmin, xmax, 200)\n",
    "    decision_boundary = -w[0]/w[1] * x0 - b/w[1]\n",
    "\n",
    "    margin = 1/w[1]\n",
    "    gutter_up = decision_boundary + margin\n",
    "    gutter_down = decision_boundary - margin\n",
    "\n",
    "    svs = svm_clf.support_vectors_\n",
    "    plt.scatter(svs[:, 0], svs[:, 1], s=180, facecolors='#FFAAAA')\n",
    "    plt.plot(x0, decision_boundary, \"k-\", linewidth=2)\n",
    "    plt.plot(x0, gutter_up, \"k--\", linewidth=2)\n",
    "    plt.plot(x0, gutter_down, \"k--\", linewidth=2)"
   ]
  },
  {
   "cell_type": "code",
   "execution_count": 20,
   "metadata": {},
   "outputs": [],
   "source": [
    "# Convert to unscaled parameters\n",
    "b1 = svm_clf1.decision_function([-scaler.mean_ / scaler.scale_])\n",
    "b2 = svm_clf2.decision_function([-scaler.mean_ / scaler.scale_])\n",
    "b3 = svm_clf3.decision_function([-scaler.mean_ / scaler.scale_])\n",
    "\n",
    "w1 = svm_clf1.coef_[0] / scaler.scale_\n",
    "w2 = svm_clf2.coef_[0] / scaler.scale_\n",
    "w3 = svm_clf3.coef_[0] / scaler.scale_\n",
    "\n",
    "svm_clf1.intercept_ = np.array([b1])\n",
    "svm_clf2.intercept_ = np.array([b2])\n",
    "svm_clf3.intercept_ = np.array([b3])\n",
    "\n",
    "svm_clf1.coef_ = np.array([w1])\n",
    "svm_clf2.coef_ = np.array([w2])\n",
    "svm_clf3.coef_ = np.array([w3])\n",
    "\n",
    "# Find support vectors (LinearSVC does not do this automatically)\n",
    "t = y_train * 2 - 1\n",
    "support_vectors_idx1 = (t * (scaled_X.dot(w1) + b1) < 1).ravel()\n",
    "support_vectors_idx2 = (t * (scaled_X.dot(w2) + b2) < 1).ravel()\n",
    "support_vectors_idx3 = (t * (scaled_X.dot(w3) + b2) < 1).ravel()\n",
    "\n",
    "svm_clf1.support_vectors_ = scaled_X[support_vectors_idx1]\n",
    "svm_clf2.support_vectors_ = scaled_X[support_vectors_idx2]\n",
    "svm_clf3.support_vectors_ = scaled_X[support_vectors_idx3]"
   ]
  },
  {
   "cell_type": "code",
   "execution_count": 21,
   "metadata": {},
   "outputs": [
    {
     "data": {
      "image/png": "[encoded data removed]",
      "text/plain": [
       "<Figure size 432x288 with 1 Axes>"
      ]
     },
     "metadata": {},
     "output_type": "display_data"
    }
   ],
   "source": [
    "plot_svc_decision_boundary(svm_clf1, x_min, x_max)\n",
    "plt.plot(scaled_X[:, 0][y_train==1], scaled_X[:, 1][y_train==1], \"bs\")\n",
    "plt.plot(scaled_X[:, 0][y_train==0], scaled_X[:, 1][y_train==0], \"yo\")\n",
    "plt.axis([0, 15, -5, 15])\n",
    "plt.show()"
   ]
  },
  {
   "cell_type": "code",
   "execution_count": 22,
   "metadata": {},
   "outputs": [
    {
     "data": {
      "image/png": "[encoded data removed]",
      "text/plain": [
       "<Figure size 432x288 with 1 Axes>"
      ]
     },
     "metadata": {},
     "output_type": "display_data"
    }
   ],
   "source": [
    "plot_svc_decision_boundary(svm_clf2, x_min, x_max)\n",
    "plt.plot(scaled_X[:, 0][y_train==1], scaled_X[:, 1][y_train==1], \"bs\")\n",
    "plt.plot(scaled_X[:, 0][y_train==0], scaled_X[:, 1][y_train==0], \"yo\")\n",
    "plt.axis([0, 15, -5, 15])\n",
    "plt.show()"
   ]
  },
  {
   "cell_type": "code",
   "execution_count": 23,
   "metadata": {},
   "outputs": [
    {
     "data": {
      "image/png": "[encoded data removed]",
      "text/plain": [
       "<Figure size 432x288 with 1 Axes>"
      ]
     },
     "metadata": {},
     "output_type": "display_data"
    }
   ],
   "source": [
    "plot_svc_decision_boundary(svm_clf3, x_min, x_max)\n",
    "plt.plot(scaled_X[:, 0][y_train==1], scaled_X[:, 1][y_train==1], \"bs\")\n",
    "plt.plot(scaled_X[:, 0][y_train==0], scaled_X[:, 1][y_train==0], \"yo\")\n",
    "plt.axis([0, 15, -5, 15])\n",
    "plt.show()"
   ]
  },
  {
   "cell_type": "markdown",
   "metadata": {},
   "source": [
    "- - -\n",
    "## 4. SELECTING THE FEATURES WITH SVM (25 pts)\n",
    "\n",
    "Once your learned a best linear SVM in previous sections, your task in this section is to select the best features. First, you must * Obtain the weight vector $\\mathbf{w}$. Then, for the number of features $n = 2$ to 57, you will run the following (in a loop of course):\n",
    "\n",
    "* Select the set of $n$ features that have the highest $\\mathbf{w}_n$\n",
    "* Train an SVM, $SVM_n$, on all training data, only using these $n$ features with the same hyperparameter C.\n",
    "* Test $SVM_n$ on the test set (using the same $n$ features) to obtain accuracy.\n",
    "* Plot accuracy on test data vs. $n$ number of features\n",
    "\n",
    "In one paragraph, discuss the effects of feature selection including the top 5 features."
   ]
  },
  {
   "cell_type": "code",
   "execution_count": 40,
   "metadata": {},
   "outputs": [
    {
     "data": {
      "text/plain": [
       "Pipeline(memory=None,\n",
       "     steps=[('scaler', StandardScaler(copy=True, with_mean=True, with_std=True)), ('linear_svc', LinearSVC(C=5, class_weight=None, dual=True, fit_intercept=True,\n",
       "     intercept_scaling=1, loss='hinge', max_iter=1000, multi_class='ovr',\n",
       "     penalty='l2', random_state=42, tol=0.0001, verbose=0))])"
      ]
     },
     "execution_count": 40,
     "metadata": {},
     "output_type": "execute_result"
    }
   ],
   "source": [
    "# Train SVM on Training Data Using Feature Selection\n",
    "scaler = StandardScaler()\n",
    "svm_clf = LinearSVC(C=5, loss=\"hinge\", random_state=42)\n",
    "scaled_svm_clf = Pipeline([ (\"scaler\", scaler), \n",
    "                           (\"linear_svc\", svm_clf), ])\n",
    "scaled_svm_clf.fit(X_train, y_train)"
   ]
  },
  {
   "cell_type": "code",
   "execution_count": 41,
   "metadata": {},
   "outputs": [],
   "source": [
    "# Obtain weight vector\n",
    "\n",
    "import operator\n",
    "\n",
    "w = svm_clf.coef_[0] / scaler.scale_\n",
    "w = abs(w)\n",
    "wdict =  dict(zip(train_set.keys(), w))\n",
    "\n",
    "wkeys, wvalues = zip(*wdict.items())\n",
    "\n",
    "top_5 = []\n",
    "\n",
    "# Selecting n features with the highest W\n",
    "for n in wdict:\n",
    "    top_5.append((n, wdict[n]))\n",
    "    \n",
    "top_5.sort(key=operator.itemgetter(1))\n",
    "top_5.reverse()\n",
    "top_5 = top_5[0:5]\n",
    "\n",
    "newW = {}\n",
    "for(key, value) in top_5:\n",
    "    newW[key] = value\n",
    "\n",
    "#print(top_5)\n",
    "#print(newW)    "
   ]
  },
  {
   "cell_type": "code",
   "execution_count": 42,
   "metadata": {},
   "outputs": [
    {
     "data": {
      "text/plain": [
       "0.6992399565689468"
      ]
     },
     "execution_count": 42,
     "metadata": {},
     "output_type": "execute_result"
    }
   ],
   "source": [
    "# Test SVM on Test Set\n",
    "X = train_set.loc[:,['word_freq_make', 'word_freq_all', 'word_freq_our', 'word_freq_address', 'word_freq_3d']]\n",
    "copy = X.copy()\n",
    "scaler = StandardScaler()\n",
    "scaled_X = scaler.fit_transform(copy)\n",
    "\n",
    "\n",
    "scaler = StandardScaler()\n",
    "svm_clf = LinearSVC(C=5, loss=\"hinge\", random_state=42)\n",
    "scaled_svm_clf = Pipeline([ (\"scaler\", scaler), \n",
    "                           (\"linear_svc\", svm_clf), ])\n",
    "scaled_svm_clf.fit(copy, y_train)\n",
    "\n",
    "test = test_set.loc[:,['word_freq_make', 'word_freq_all', 'word_freq_our', 'word_freq_address', 'word_freq_3d']]\n",
    "y_train_pred = svm_clf.predict(test)\n",
    "accuracy_score(y_test, y_train_pred)"
   ]
  },
  {
   "cell_type": "code",
   "execution_count": 68,
   "metadata": {},
   "outputs": [],
   "source": [
    "accuracy = []\n",
    "n_val = []\n",
    "for n in range(2, 57):\n",
    "    X = train_set.loc[:,[wkeys[n]]]\n",
    "    copy = X.copy()\n",
    "    scaler = StandardScaler()\n",
    "    scaled_X = scaler.fit_transform(copy)\n",
    "    \n",
    "    scaler = StandardScaler()\n",
    "    svm_clf = LinearSVC(C=5, loss=\"hinge\", random_state=42)\n",
    "    scaled_svm_clf = Pipeline([ (\"scaler\", scaler), (\"linear_svc\", svm_clf), ])\n",
    "    scaled_svm_clf.fit(copy, y_train)\n",
    "    test = test_set.loc[:,[wkeys[n]]]\n",
    "    y_train_pred = svm_clf.predict(test)\n",
    "    n_val.append(n)\n",
    "    accuracy.append((accuracy_score(y_test, y_train_pred)* 0.1))\n"
   ]
  },
  {
   "cell_type": "code",
   "execution_count": 67,
   "metadata": {},
   "outputs": [
    {
     "data": {
      "text/plain": [
       "<function matplotlib.pyplot.show(*args, **kw)>"
      ]
     },
     "execution_count": 67,
     "metadata": {},
     "output_type": "execute_result"
    },
    {
     "data": {
      "image/png": "[encoded data removed]",
      "text/plain": [
       "<Figure size 432x288 with 1 Axes>"
      ]
     },
     "metadata": {},
     "output_type": "display_data"
    }
   ],
   "source": [
    "# Plot Accuracy v. # Features\n",
    "plt.plot(accuracy)\n",
    "plt.xlabel('Feature')\n",
    "plt.ylabel('Accuracy')\n",
    "plt.title('Test Data vs. n Features ')\n",
    "# plt.axis([0, 55, 0, 1])\n",
    "plt.show"
   ]
  },
  {
   "cell_type": "code",
   "execution_count": null,
   "metadata": {},
   "outputs": [],
   "source": [
    "# Paragraph\n",
    "\n",
    "# Reducing the number of features that the test set used reduced the overall accuracy. I think this is primarily\n",
    "# because reducing the overall numberof features that are used to train a model reduces its ability to appropriately \n",
    "# scale to when testing, as it has less information to generalize from, and thus explains the overall reduction in \n",
    "# accuracy when using the values with only the highest correlations in the spam set."
   ]
  },
  {
   "cell_type": "markdown",
   "metadata": {},
   "source": [
    "- - -\n",
    "## 5. KERNELIZING SVM WITH THE GAUSSIAN RBF (30 pts)\n",
    "\n",
    "In this part of the assignment, you will be using SVMs to do non-linear classification. In particular, you will be using SVMs with Gaussian kernels on datasets that are not linearly separable. \n",
    "\n",
    "$\n",
    "    \\mathbf{K}_{RBF}(\\mathbf{x}^{(i)},\\mathbf{x}^{(j)}) = \\exp(-\\gamma ||\\mathbf{x}^{(i)} -\\mathbf{x}^{(j)}||^2).\n",
    "$\n",
    "\n",
    "Your task is to determine the best $C$ and $\\gamma$ hyperparameters to use, run SVM on the spam data and report the performance in metrics similar to section 2. By using the Gaussian kernel with the SVM, you will be able to learn a non-linear decision boundary that can perform reasonably well for this dataset. \n",
    "\n",
    "Finally, run the version of SVM with the best hyperparameters on the test set, and plot out the comparison in terms of accuracy, precision, and recall, and the ROC curve) to those of linear SVM in Section 3. How much your SVM classifier perform better? \n",
    "\n",
    "**Implementation Note:** When implementing cross validation to select the best C and $\\gamma$ parameter to use, you need to evaluate the error on the cross validation set. Recall that for classification, the error is defined as the fraction of the cross validation examples that were classified incorrectly.\n",
    "\n",
    "\n"
   ]
  },
  {
   "cell_type": "code",
   "execution_count": 138,
   "metadata": {},
   "outputs": [],
   "source": [
    "from sklearn.svm import SVC\n",
    "from sklearn.model_selection import GridSearchCV"
   ]
  },
  {
   "cell_type": "code",
   "execution_count": 155,
   "metadata": {},
   "outputs": [
    {
     "data": {
      "text/plain": [
       "{'C': 1000, 'gamma': 0.001}"
      ]
     },
     "execution_count": 155,
     "metadata": {},
     "output_type": "execute_result"
    }
   ],
   "source": [
    "# Determine the best  C  and  γ  hyperparameters to use\n",
    "params = {'gamma': [0.001, 0.01, 0.1, 1],\n",
    "                     'C':[ 0.01, 0.1, 1, 10, 1000]}\n",
    "\n",
    "grid_search = GridSearchCV(SVC(), params, cv=5)\n",
    "grid_search.fit(X_train, y_train)\n",
    "grid_search.best_params_"
   ]
  },
  {
   "cell_type": "code",
   "execution_count": 156,
   "metadata": {},
   "outputs": [
    {
     "data": {
      "text/plain": [
       "Pipeline(memory=None,\n",
       "     steps=[('scaler', StandardScaler(copy=True, with_mean=True, with_std=True)), ('svm_clf', SVC(C=1000, cache_size=200, class_weight=None, coef0=0.0,\n",
       "  decision_function_shape='ovr', degree=3, gamma=0.001, kernel='rbf',\n",
       "  max_iter=-1, probability=False, random_state=None, shrinking=True,\n",
       "  tol=0.001, verbose=False))])"
      ]
     },
     "execution_count": 156,
     "metadata": {},
     "output_type": "execute_result"
    }
   ],
   "source": [
    "# Run SVM (RBF)\n",
    "rbf_kernel_svm_clf = Pipeline([\n",
    "        (\"scaler\", StandardScaler()),\n",
    "        (\"svm_clf\", SVC(kernel=\"rbf\", gamma=0.001, C=1000))\n",
    "    ])\n",
    "rbf_kernel_svm_clf.fit(X_train, y_train)"
   ]
  },
  {
   "cell_type": "code",
   "execution_count": 157,
   "metadata": {},
   "outputs": [
    {
     "data": {
      "text/plain": [
       "array([[525,   6],\n",
       "       [159, 231]], dtype=int64)"
      ]
     },
     "execution_count": 157,
     "metadata": {},
     "output_type": "execute_result"
    }
   ],
   "source": [
    "# Run on Test Set\n",
    "y_train_pred = rbf_kernel_svm_clf.predict(X_test)\n",
    "confusion_matrix(y_test, y_train_pred)"
   ]
  },
  {
   "cell_type": "code",
   "execution_count": 158,
   "metadata": {},
   "outputs": [
    {
     "data": {
      "text/plain": [
       "0.8208469055374593"
      ]
     },
     "execution_count": 158,
     "metadata": {},
     "output_type": "execute_result"
    }
   ],
   "source": [
    "# ACCURACY\n",
    "accuracy_score(y_test, y_train_pred)"
   ]
  },
  {
   "cell_type": "code",
   "execution_count": 159,
   "metadata": {},
   "outputs": [
    {
     "data": {
      "text/plain": [
       "0.9746835443037974"
      ]
     },
     "execution_count": 159,
     "metadata": {},
     "output_type": "execute_result"
    }
   ],
   "source": [
    "# PRECISION\n",
    "precision_score(y_test, y_train_pred)"
   ]
  },
  {
   "cell_type": "code",
   "execution_count": 160,
   "metadata": {},
   "outputs": [
    {
     "data": {
      "text/plain": [
       "0.5923076923076923"
      ]
     },
     "execution_count": 160,
     "metadata": {},
     "output_type": "execute_result"
    }
   ],
   "source": [
    "# RECALL\n",
    "recall_score(y_test, y_train_pred)"
   ]
  },
  {
   "cell_type": "code",
   "execution_count": 161,
   "metadata": {},
   "outputs": [
    {
     "data": {
      "image/png": "[encoded data removed]",
      "text/plain": [
       "<Figure size 576x432 with 1 Axes>"
      ]
     },
     "metadata": {},
     "output_type": "display_data"
    }
   ],
   "source": [
    "# ROC CURVE using 200 thresholds\n",
    "y_scores = cross_val_predict(rbf_kernel_svm_clf, X_train, y_train, cv=3, method=\"decision_function\")\n",
    "\n",
    "# hack to work around issue #9589 in Scikit-Learn 0.19.0\n",
    "if y_scores.ndim == 2:\n",
    "    y_scores = y_scores[:, 1]\n",
    "        \n",
    "fpr, tpr, thresholds = roc_curve(y_train, y_scores)\n",
    "\n",
    "def plot_roc_curve(fpr, tpr, label=None):\n",
    "    plt.plot(fpr, tpr, linewidth=2, label=label)\n",
    "    plt.plot([0, 1], [0, 1], 'k--')\n",
    "    plt.xlim([0.0, 1.0])\n",
    "    plt.ylim([0.0, 1.05])\n",
    "    plt.axis([0, 1, 0, 1])\n",
    "    plt.xlabel('False Positive Rate', fontsize=16)\n",
    "    plt.ylabel('True Positive Rate', fontsize=16)\n",
    "\n",
    "plt.figure(figsize=(8, 6))\n",
    "plot_roc_curve(fpr, tpr)\n",
    "plt.show()"
   ]
  },
  {
   "cell_type": "code",
   "execution_count": null,
   "metadata": {},
   "outputs": [],
   "source": [
    "# Comments\n",
    "# It was interesting to see that the overall accuracy and recall scores worsened when using the RBF model\n",
    "# interestingly enough, however, the precision remained about the same.  Linear models tend to perform\n",
    "# very well and generally do not require as many resources to train with without a reduction predictive performance."
   ]
  },
  {
   "cell_type": "markdown",
   "metadata": {},
   "source": [
    "- - - \n",
    "### NEED HELP?"
   ]
  },
  {
   "cell_type": "markdown",
   "metadata": {},
   "source": [
    "In case you get stuck in any step in the process, you may find some useful information from:\n",
    "\n",
    " * Consult my [lecture 6](https://drive.google.com/open?id=1CeBhepjDKBaFBq2BZq-zNQs-MC8ll7aL4qAF8TJ24FM) and [lecture 6b](https://drive.google.com/open?id=13BidUAs_c2QdZkf92axt2S748sbnbI9Hgxg-fzb-OuU) and/or the textbook\n",
    " * Talk to the TA, they are available and there to help you during [office hour](https://docs.google.com/document/d/15qB84xjaS-uRJmfKmmQuCz38bLMFaoqdbuRLoZEdOYI/edit#heading=h.72k1pvft525n)\n",
    " * Come talk to me or email me <nn4pj@virginia.edu> with subject starting \"CS6316 Assignment 2:...\".\n",
    "\n",
    "Best of luck and have fun!"
   ]
  }
 ],
 "metadata": {
  "kernelspec": {
   "display_name": "Python 3",
   "language": "python",
   "name": "python3"
  },
  "language_info": {
   "codemirror_mode": {
    "name": "ipython",
    "version": 3
   },
   "file_extension": ".py",
   "mimetype": "text/x-python",
   "name": "python",
   "nbconvert_exporter": "python",
   "pygments_lexer": "ipython3",
   "version": "3.6.5"
  }
 },
 "nbformat": 4,
 "nbformat_minor": 2
}
